{
 "cells": [
  {
   "cell_type": "markdown",
   "id": "346ff7e8-ce28-4240-a248-acb1f31b2fda",
   "metadata": {},
   "source": [
    "# Panads Introduction"
   ]
  },
  {
   "cell_type": "code",
   "execution_count": 55,
   "id": "0b66df08-2280-4b55-849d-ae80372cd925",
   "metadata": {},
   "outputs": [],
   "source": [
    "import pandas as pd"
   ]
  },
  {
   "cell_type": "markdown",
   "id": "3a4a50fa-9bd7-4518-a8fe-94a927be7a59",
   "metadata": {},
   "source": [
    "- First we create a `student_data` variable\n",
    "- Then we create a `column` variable\n",
    "- Lastly, we create the `students` DataFrame"
   ]
  },
  {
   "cell_type": "code",
   "execution_count": 57,
   "id": "0530dfd5-66a7-48f6-aeb4-9bd4bd0cab9e",
   "metadata": {},
   "outputs": [],
   "source": [
    "student_data = [[1,15], [2,11], [3, 11], [4, 20]]"
   ]
  },
  {
   "cell_type": "code",
   "execution_count": 59,
   "id": "c8f86839-3e20-43b8-840e-227e1382aabd",
   "metadata": {},
   "outputs": [],
   "source": [
    "columns = ['student_id', 'age']"
   ]
  },
  {
   "cell_type": "code",
   "execution_count": 61,
   "id": "067e19b5-03a9-46d9-a58f-166a6c8ad6a9",
   "metadata": {},
   "outputs": [],
   "source": [
    "students = pd.DataFrame(data=student_data, columns=columns)"
   ]
  },
  {
   "cell_type": "code",
   "execution_count": 63,
   "id": "7f58ff8a-83c1-4b77-9a46-aa24036e6122",
   "metadata": {},
   "outputs": [
    {
     "data": {
      "text/html": [
       "<div>\n",
       "<style scoped>\n",
       "    .dataframe tbody tr th:only-of-type {\n",
       "        vertical-align: middle;\n",
       "    }\n",
       "\n",
       "    .dataframe tbody tr th {\n",
       "        vertical-align: top;\n",
       "    }\n",
       "\n",
       "    .dataframe thead th {\n",
       "        text-align: right;\n",
       "    }\n",
       "</style>\n",
       "<table border=\"1\" class=\"dataframe\">\n",
       "  <thead>\n",
       "    <tr style=\"text-align: right;\">\n",
       "      <th></th>\n",
       "      <th>student_id</th>\n",
       "      <th>age</th>\n",
       "    </tr>\n",
       "  </thead>\n",
       "  <tbody>\n",
       "    <tr>\n",
       "      <th>0</th>\n",
       "      <td>1</td>\n",
       "      <td>15</td>\n",
       "    </tr>\n",
       "    <tr>\n",
       "      <th>1</th>\n",
       "      <td>2</td>\n",
       "      <td>11</td>\n",
       "    </tr>\n",
       "    <tr>\n",
       "      <th>2</th>\n",
       "      <td>3</td>\n",
       "      <td>11</td>\n",
       "    </tr>\n",
       "    <tr>\n",
       "      <th>3</th>\n",
       "      <td>4</td>\n",
       "      <td>20</td>\n",
       "    </tr>\n",
       "  </tbody>\n",
       "</table>\n",
       "</div>"
      ],
      "text/plain": [
       "   student_id  age\n",
       "0           1   15\n",
       "1           2   11\n",
       "2           3   11\n",
       "3           4   20"
      ]
     },
     "execution_count": 63,
     "metadata": {},
     "output_type": "execute_result"
    }
   ],
   "source": [
    "students"
   ]
  },
  {
   "cell_type": "markdown",
   "id": "64cf0243-65aa-48e3-b202-11acfea855a4",
   "metadata": {},
   "source": [
    "**We're now going to count how many rows and columns our dataset has...**"
   ]
  },
  {
   "cell_type": "code",
   "execution_count": 65,
   "id": "3f9ec8a5-a977-4b23-a544-817ccba88499",
   "metadata": {},
   "outputs": [],
   "source": [
    "rows = len(students) # len is a function that returns the\n",
    "                     # length of what's inside"
   ]
  },
  {
   "cell_type": "code",
   "execution_count": 67,
   "id": "33d4b13b-0694-48ee-b6ad-fd2c8d8d0756",
   "metadata": {},
   "outputs": [
    {
     "name": "stdout",
     "output_type": "stream",
     "text": [
      "The students dataset has 4 rows\n"
     ]
    }
   ],
   "source": [
    "print(f\"The students dataset has {rows} rows\")"
   ]
  },
  {
   "cell_type": "code",
   "execution_count": 73,
   "id": "95675e30-ff7a-491d-a831-952893bfb5e5",
   "metadata": {},
   "outputs": [],
   "source": [
    "student_columns = len(students.columns)"
   ]
  },
  {
   "cell_type": "code",
   "execution_count": 75,
   "id": "4b9f97c8-d14c-46f3-b556-ef160bde76ce",
   "metadata": {},
   "outputs": [
    {
     "name": "stdout",
     "output_type": "stream",
     "text": [
      "The students dataset has 2 columns\n"
     ]
    }
   ],
   "source": [
    "print(f\"The students dataset has {student_columns} columns\")"
   ]
  },
  {
   "cell_type": "markdown",
   "id": "e371a5ac-e901-46bb-9476-a5cc110b22fc",
   "metadata": {},
   "source": [
    "### Checkpoint:\n",
    "\n",
    "1. We imported panads\n",
    "2. We created a `students` dataset\n",
    "3. We counted how many rows and columns are in the `students` dataset"
   ]
  },
  {
   "cell_type": "markdown",
   "id": "84512369-8b4d-4bfe-a350-e853586892ba",
   "metadata": {},
   "source": [
    "**Print out the first 3 rows of the `students` dataframe...**"
   ]
  },
  {
   "cell_type": "markdown",
   "id": "32ecbef0-894f-448c-b0d6-863416b78184",
   "metadata": {},
   "source": [
    "`Panads` has a function called `.head(x)` which prints out the first `x` rows of your `DataFrame`"
   ]
  },
  {
   "cell_type": "code",
   "execution_count": 82,
   "id": "e85f0d92-e661-4033-904a-2500149ff802",
   "metadata": {},
   "outputs": [
    {
     "data": {
      "text/html": [
       "<div>\n",
       "<style scoped>\n",
       "    .dataframe tbody tr th:only-of-type {\n",
       "        vertical-align: middle;\n",
       "    }\n",
       "\n",
       "    .dataframe tbody tr th {\n",
       "        vertical-align: top;\n",
       "    }\n",
       "\n",
       "    .dataframe thead th {\n",
       "        text-align: right;\n",
       "    }\n",
       "</style>\n",
       "<table border=\"1\" class=\"dataframe\">\n",
       "  <thead>\n",
       "    <tr style=\"text-align: right;\">\n",
       "      <th></th>\n",
       "      <th>student_id</th>\n",
       "      <th>age</th>\n",
       "    </tr>\n",
       "  </thead>\n",
       "  <tbody>\n",
       "    <tr>\n",
       "      <th>0</th>\n",
       "      <td>1</td>\n",
       "      <td>15</td>\n",
       "    </tr>\n",
       "    <tr>\n",
       "      <th>1</th>\n",
       "      <td>2</td>\n",
       "      <td>11</td>\n",
       "    </tr>\n",
       "    <tr>\n",
       "      <th>2</th>\n",
       "      <td>3</td>\n",
       "      <td>11</td>\n",
       "    </tr>\n",
       "  </tbody>\n",
       "</table>\n",
       "</div>"
      ],
      "text/plain": [
       "   student_id  age\n",
       "0           1   15\n",
       "1           2   11\n",
       "2           3   11"
      ]
     },
     "execution_count": 82,
     "metadata": {},
     "output_type": "execute_result"
    }
   ],
   "source": [
    "students.head(3)"
   ]
  },
  {
   "cell_type": "markdown",
   "id": "786fbd98-d39e-4043-a88d-86b9eda122ae",
   "metadata": {},
   "source": [
    "There's another way to print the first `x` rows using Python. We can use a technique called slicing where we provide the starting row and the ending row in square brackets, seperated by a colan\n",
    "\n",
    "**Example:** [1:2] would include the first row but not the second"
   ]
  },
  {
   "cell_type": "code",
   "execution_count": 88,
   "id": "52b62340-6e7f-40bc-b33f-7c37d7d5de79",
   "metadata": {},
   "outputs": [
    {
     "data": {
      "text/html": [
       "<div>\n",
       "<style scoped>\n",
       "    .dataframe tbody tr th:only-of-type {\n",
       "        vertical-align: middle;\n",
       "    }\n",
       "\n",
       "    .dataframe tbody tr th {\n",
       "        vertical-align: top;\n",
       "    }\n",
       "\n",
       "    .dataframe thead th {\n",
       "        text-align: right;\n",
       "    }\n",
       "</style>\n",
       "<table border=\"1\" class=\"dataframe\">\n",
       "  <thead>\n",
       "    <tr style=\"text-align: right;\">\n",
       "      <th></th>\n",
       "      <th>student_id</th>\n",
       "      <th>age</th>\n",
       "    </tr>\n",
       "  </thead>\n",
       "  <tbody>\n",
       "    <tr>\n",
       "      <th>1</th>\n",
       "      <td>2</td>\n",
       "      <td>11</td>\n",
       "    </tr>\n",
       "  </tbody>\n",
       "</table>\n",
       "</div>"
      ],
      "text/plain": [
       "   student_id  age\n",
       "1           2   11"
      ]
     },
     "execution_count": 88,
     "metadata": {},
     "output_type": "execute_result"
    }
   ],
   "source": [
    "students[1:2]"
   ]
  },
  {
   "cell_type": "code",
   "execution_count": 84,
   "id": "0a6b3b5e-cdb3-4a84-a9f7-744bfbc371ca",
   "metadata": {},
   "outputs": [
    {
     "data": {
      "text/html": [
       "<div>\n",
       "<style scoped>\n",
       "    .dataframe tbody tr th:only-of-type {\n",
       "        vertical-align: middle;\n",
       "    }\n",
       "\n",
       "    .dataframe tbody tr th {\n",
       "        vertical-align: top;\n",
       "    }\n",
       "\n",
       "    .dataframe thead th {\n",
       "        text-align: right;\n",
       "    }\n",
       "</style>\n",
       "<table border=\"1\" class=\"dataframe\">\n",
       "  <thead>\n",
       "    <tr style=\"text-align: right;\">\n",
       "      <th></th>\n",
       "      <th>student_id</th>\n",
       "      <th>age</th>\n",
       "    </tr>\n",
       "  </thead>\n",
       "  <tbody>\n",
       "    <tr>\n",
       "      <th>2</th>\n",
       "      <td>3</td>\n",
       "      <td>11</td>\n",
       "    </tr>\n",
       "    <tr>\n",
       "      <th>3</th>\n",
       "      <td>4</td>\n",
       "      <td>20</td>\n",
       "    </tr>\n",
       "  </tbody>\n",
       "</table>\n",
       "</div>"
      ],
      "text/plain": [
       "   student_id  age\n",
       "2           3   11\n",
       "3           4   20"
      ]
     },
     "execution_count": 84,
     "metadata": {},
     "output_type": "execute_result"
    }
   ],
   "source": [
    "students.tail(2)"
   ]
  },
  {
   "cell_type": "markdown",
   "id": "f9a5a765-4e4f-46db-bec2-9d28088ba2ce",
   "metadata": {},
   "source": [
    "We may want to do further analysis on a sample of our full dataset (the population). For this, we can use the `.sample()` method provided by `panads`.\n",
    "\n",
    "`.sample(x)` prints out `x` **random** rows within your full dataset."
   ]
  },
  {
   "cell_type": "code",
   "execution_count": 100,
   "id": "cc68cb9a-762a-496b-9854-9eec994ea4e8",
   "metadata": {},
   "outputs": [
    {
     "data": {
      "text/html": [
       "<div>\n",
       "<style scoped>\n",
       "    .dataframe tbody tr th:only-of-type {\n",
       "        vertical-align: middle;\n",
       "    }\n",
       "\n",
       "    .dataframe tbody tr th {\n",
       "        vertical-align: top;\n",
       "    }\n",
       "\n",
       "    .dataframe thead th {\n",
       "        text-align: right;\n",
       "    }\n",
       "</style>\n",
       "<table border=\"1\" class=\"dataframe\">\n",
       "  <thead>\n",
       "    <tr style=\"text-align: right;\">\n",
       "      <th></th>\n",
       "      <th>student_id</th>\n",
       "      <th>age</th>\n",
       "    </tr>\n",
       "  </thead>\n",
       "  <tbody>\n",
       "    <tr>\n",
       "      <th>2</th>\n",
       "      <td>3</td>\n",
       "      <td>11</td>\n",
       "    </tr>\n",
       "    <tr>\n",
       "      <th>3</th>\n",
       "      <td>4</td>\n",
       "      <td>20</td>\n",
       "    </tr>\n",
       "    <tr>\n",
       "      <th>1</th>\n",
       "      <td>2</td>\n",
       "      <td>11</td>\n",
       "    </tr>\n",
       "  </tbody>\n",
       "</table>\n",
       "</div>"
      ],
      "text/plain": [
       "   student_id  age\n",
       "2           3   11\n",
       "3           4   20\n",
       "1           2   11"
      ]
     },
     "execution_count": 100,
     "metadata": {},
     "output_type": "execute_result"
    }
   ],
   "source": [
    "students.sample(3)"
   ]
  },
  {
   "cell_type": "markdown",
   "id": "e8048f90-51ce-467c-a369-82d03b7772ca",
   "metadata": {},
   "source": [
    "### Checkpoint:\n",
    "\n",
    "1. We imported panads\n",
    "2. We created a `students` dataset\n",
    "3. We counted how many rows and columns are in the `students` dataset\n",
    "4. **We printed out the first 3 rows of the `students` dataset**"
   ]
  },
  {
   "cell_type": "code",
   "execution_count": null,
   "id": "9f49e660-7c12-41ea-8dcf-be9757b4bd33",
   "metadata": {},
   "outputs": [],
   "source": []
  }
 ],
 "metadata": {
  "kernelspec": {
   "display_name": "Python 3 (ipykernel)",
   "language": "python",
   "name": "python3"
  },
  "language_info": {
   "codemirror_mode": {
    "name": "ipython",
    "version": 3
   },
   "file_extension": ".py",
   "mimetype": "text/x-python",
   "name": "python",
   "nbconvert_exporter": "python",
   "pygments_lexer": "ipython3",
   "version": "3.12.4"
  }
 },
 "nbformat": 4,
 "nbformat_minor": 5
}
