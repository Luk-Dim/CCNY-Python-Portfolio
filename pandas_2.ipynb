{
 "cells": [
  {
   "cell_type": "markdown",
   "id": "d11c9a46-3c1d-4c59-b55a-3ff134efc01f",
   "metadata": {},
   "source": [
    "# Panads Cont."
   ]
  },
  {
   "cell_type": "markdown",
   "id": "e1259367-3ef6-4917-9c0d-6a21917b203c",
   "metadata": {},
   "source": [
    "## Recap:\n",
    "\n",
    "- Imported `pandas`\n",
    "- Created a `DataFrame`\n",
    "- Counted the no. of rows and columns in our `DataFrame`\n",
    "- Displayed the first 3 rows of our `DataFrame`"
   ]
  },
  {
   "cell_type": "markdown",
   "id": "7f3813c0-510f-4319-be16-ea8be6380a22",
   "metadata": {},
   "source": [
    "### Task:\n",
    "\n",
    "1. We are given a DataFrame\n",
    "2. We want to filter it by `student_id = 101`\n",
    "3. We want to return the columns: `name` and `age`"
   ]
  },
  {
   "cell_type": "code",
   "execution_count": 37,
   "id": "e8978a8b-a3ab-48d4-8140-f151145e733d",
   "metadata": {},
   "outputs": [],
   "source": [
    "student_data = [\n",
    "    [101, 'Ulysses', 13],\n",
    "    [53, 'William', 10],\n",
    "    [128, 'Henry', 6],\n",
    "    [3, 'Henry', 11],\n",
    "]"
   ]
  },
  {
   "cell_type": "code",
   "execution_count": 39,
   "id": "44be2bc4-06b6-4ce3-b50f-e94762f147a7",
   "metadata": {},
   "outputs": [],
   "source": [
    "student_data_columns = ['student_id', 'name', 'age']"
   ]
  },
  {
   "cell_type": "code",
   "execution_count": 41,
   "id": "83da2f58-0d84-4f03-b75a-2b59453089b2",
   "metadata": {},
   "outputs": [],
   "source": [
    "import pandas as pd"
   ]
  },
  {
   "cell_type": "code",
   "execution_count": 43,
   "id": "77bbe7e6-082e-4eec-a112-644702d3bc3a",
   "metadata": {},
   "outputs": [],
   "source": [
    "df = pd.DataFrame(data=student_data, columns=student_data_columns)"
   ]
  },
  {
   "cell_type": "code",
   "execution_count": 45,
   "id": "a57a53d5-fde3-4f87-89a0-20bc6f956c4a",
   "metadata": {},
   "outputs": [
    {
     "data": {
      "text/html": [
       "<div>\n",
       "<style scoped>\n",
       "    .dataframe tbody tr th:only-of-type {\n",
       "        vertical-align: middle;\n",
       "    }\n",
       "\n",
       "    .dataframe tbody tr th {\n",
       "        vertical-align: top;\n",
       "    }\n",
       "\n",
       "    .dataframe thead th {\n",
       "        text-align: right;\n",
       "    }\n",
       "</style>\n",
       "<table border=\"1\" class=\"dataframe\">\n",
       "  <thead>\n",
       "    <tr style=\"text-align: right;\">\n",
       "      <th></th>\n",
       "      <th>student_id</th>\n",
       "      <th>name</th>\n",
       "      <th>age</th>\n",
       "    </tr>\n",
       "  </thead>\n",
       "  <tbody>\n",
       "    <tr>\n",
       "      <th>0</th>\n",
       "      <td>101</td>\n",
       "      <td>Ulysses</td>\n",
       "      <td>13</td>\n",
       "    </tr>\n",
       "    <tr>\n",
       "      <th>1</th>\n",
       "      <td>53</td>\n",
       "      <td>William</td>\n",
       "      <td>10</td>\n",
       "    </tr>\n",
       "    <tr>\n",
       "      <th>2</th>\n",
       "      <td>128</td>\n",
       "      <td>Henry</td>\n",
       "      <td>6</td>\n",
       "    </tr>\n",
       "    <tr>\n",
       "      <th>3</th>\n",
       "      <td>3</td>\n",
       "      <td>Henry</td>\n",
       "      <td>11</td>\n",
       "    </tr>\n",
       "  </tbody>\n",
       "</table>\n",
       "</div>"
      ],
      "text/plain": [
       "   student_id     name  age\n",
       "0         101  Ulysses   13\n",
       "1          53  William   10\n",
       "2         128    Henry    6\n",
       "3           3    Henry   11"
      ]
     },
     "execution_count": 45,
     "metadata": {},
     "output_type": "execute_result"
    }
   ],
   "source": [
    "df"
   ]
  },
  {
   "cell_type": "markdown",
   "id": "e4bf4c1f-3e4c-45c0-9007-a36294da4c86",
   "metadata": {},
   "source": [
    "To select a specific column from our `df`, we can do: `df['name_of_column']`"
   ]
  },
  {
   "cell_type": "code",
   "execution_count": 56,
   "id": "8f0d88a0-d493-402a-baf9-9bc9e3bf8e20",
   "metadata": {},
   "outputs": [
    {
     "data": {
      "text/plain": [
       "0    101\n",
       "1     53\n",
       "2    128\n",
       "3      3\n",
       "Name: student_id, dtype: int64"
      ]
     },
     "execution_count": 56,
     "metadata": {},
     "output_type": "execute_result"
    }
   ],
   "source": [
    "df['student_id']"
   ]
  },
  {
   "cell_type": "code",
   "execution_count": 62,
   "id": "02c3e8b4-bb0f-4726-8fd5-73c768bcd929",
   "metadata": {},
   "outputs": [
    {
     "data": {
      "text/plain": [
       "0     True\n",
       "1    False\n",
       "2    False\n",
       "3    False\n",
       "Name: student_id, dtype: bool"
      ]
     },
     "execution_count": 62,
     "metadata": {},
     "output_type": "execute_result"
    }
   ],
   "source": [
    "df['student_id'] == 101"
   ]
  },
  {
   "cell_type": "code",
   "execution_count": 76,
   "id": "38804c00-826b-4061-93a1-a3552bb831e3",
   "metadata": {},
   "outputs": [
    {
     "data": {
      "text/html": [
       "<div>\n",
       "<style scoped>\n",
       "    .dataframe tbody tr th:only-of-type {\n",
       "        vertical-align: middle;\n",
       "    }\n",
       "\n",
       "    .dataframe tbody tr th {\n",
       "        vertical-align: top;\n",
       "    }\n",
       "\n",
       "    .dataframe thead th {\n",
       "        text-align: right;\n",
       "    }\n",
       "</style>\n",
       "<table border=\"1\" class=\"dataframe\">\n",
       "  <thead>\n",
       "    <tr style=\"text-align: right;\">\n",
       "      <th></th>\n",
       "      <th>name</th>\n",
       "      <th>age</th>\n",
       "    </tr>\n",
       "  </thead>\n",
       "  <tbody>\n",
       "    <tr>\n",
       "      <th>0</th>\n",
       "      <td>Ulysses</td>\n",
       "      <td>13</td>\n",
       "    </tr>\n",
       "  </tbody>\n",
       "</table>\n",
       "</div>"
      ],
      "text/plain": [
       "      name  age\n",
       "0  Ulysses   13"
      ]
     },
     "execution_count": 76,
     "metadata": {},
     "output_type": "execute_result"
    }
   ],
   "source": [
    "df.loc[df['student_id'] == 101, ['name', 'age']]"
   ]
  },
  {
   "cell_type": "markdown",
   "id": "f78a1ba6-0ee3-4825-adf5-f7f3fcd96f2f",
   "metadata": {},
   "source": [
    "### ^ New function: `.loc()`\n",
    "\n",
    "The first argument is the condition would want to filter by.\n",
    "\n",
    "Ex: `df['student_id'] == 101`\n",
    "\n",
    "The second argument is the columns that you want to display.\n",
    "\n",
    "Ex: `['name', 'age']`"
   ]
  },
  {
   "cell_type": "markdown",
   "id": "7e5ea94d-4178-4f01-8c92-d3a510df6d95",
   "metadata": {},
   "source": [
    "### New Task:\n",
    "\n",
    "- Create a new column in `student_data` `DataFrame` called `age_in_dog_years`\n",
    "- For the values of `age_in_dog_years`, multiply `age` * 7.5"
   ]
  },
  {
   "cell_type": "code",
   "execution_count": 86,
   "id": "db36af12-00d6-4c3d-abee-36084f63e219",
   "metadata": {},
   "outputs": [
    {
     "data": {
      "text/html": [
       "<div>\n",
       "<style scoped>\n",
       "    .dataframe tbody tr th:only-of-type {\n",
       "        vertical-align: middle;\n",
       "    }\n",
       "\n",
       "    .dataframe tbody tr th {\n",
       "        vertical-align: top;\n",
       "    }\n",
       "\n",
       "    .dataframe thead th {\n",
       "        text-align: right;\n",
       "    }\n",
       "</style>\n",
       "<table border=\"1\" class=\"dataframe\">\n",
       "  <thead>\n",
       "    <tr style=\"text-align: right;\">\n",
       "      <th></th>\n",
       "      <th>student_id</th>\n",
       "      <th>name</th>\n",
       "      <th>age</th>\n",
       "    </tr>\n",
       "  </thead>\n",
       "  <tbody>\n",
       "    <tr>\n",
       "      <th>0</th>\n",
       "      <td>101</td>\n",
       "      <td>Ulysses</td>\n",
       "      <td>13</td>\n",
       "    </tr>\n",
       "    <tr>\n",
       "      <th>1</th>\n",
       "      <td>53</td>\n",
       "      <td>William</td>\n",
       "      <td>10</td>\n",
       "    </tr>\n",
       "    <tr>\n",
       "      <th>2</th>\n",
       "      <td>128</td>\n",
       "      <td>Henry</td>\n",
       "      <td>6</td>\n",
       "    </tr>\n",
       "    <tr>\n",
       "      <th>3</th>\n",
       "      <td>3</td>\n",
       "      <td>Henry</td>\n",
       "      <td>11</td>\n",
       "    </tr>\n",
       "  </tbody>\n",
       "</table>\n",
       "</div>"
      ],
      "text/plain": [
       "   student_id     name  age\n",
       "0         101  Ulysses   13\n",
       "1          53  William   10\n",
       "2         128    Henry    6\n",
       "3           3    Henry   11"
      ]
     },
     "execution_count": 86,
     "metadata": {},
     "output_type": "execute_result"
    }
   ],
   "source": [
    "df"
   ]
  },
  {
   "cell_type": "code",
   "execution_count": 89,
   "id": "e86871ec-30b5-4d37-95ca-f3d8f4a8fc81",
   "metadata": {},
   "outputs": [
    {
     "data": {
      "text/plain": [
       "0    13\n",
       "1    10\n",
       "2     6\n",
       "3    11\n",
       "Name: age, dtype: int64"
      ]
     },
     "execution_count": 89,
     "metadata": {},
     "output_type": "execute_result"
    }
   ],
   "source": [
    "df['age']"
   ]
  },
  {
   "cell_type": "code",
   "execution_count": 96,
   "id": "7b75b5e8-7e06-477f-a281-f0fece267e96",
   "metadata": {},
   "outputs": [],
   "source": [
    "# Create a new column:\n",
    "# Access age values and multiply by 7.5\n",
    "\n",
    "df['age_in_dog_years'] = df['age'] * 7.5"
   ]
  },
  {
   "cell_type": "code",
   "execution_count": 98,
   "id": "1c0c08af-f78c-4efe-a080-5563db7a26e5",
   "metadata": {},
   "outputs": [
    {
     "data": {
      "text/html": [
       "<div>\n",
       "<style scoped>\n",
       "    .dataframe tbody tr th:only-of-type {\n",
       "        vertical-align: middle;\n",
       "    }\n",
       "\n",
       "    .dataframe tbody tr th {\n",
       "        vertical-align: top;\n",
       "    }\n",
       "\n",
       "    .dataframe thead th {\n",
       "        text-align: right;\n",
       "    }\n",
       "</style>\n",
       "<table border=\"1\" class=\"dataframe\">\n",
       "  <thead>\n",
       "    <tr style=\"text-align: right;\">\n",
       "      <th></th>\n",
       "      <th>student_id</th>\n",
       "      <th>name</th>\n",
       "      <th>age</th>\n",
       "      <th>age_in_dog_years</th>\n",
       "    </tr>\n",
       "  </thead>\n",
       "  <tbody>\n",
       "    <tr>\n",
       "      <th>0</th>\n",
       "      <td>101</td>\n",
       "      <td>Ulysses</td>\n",
       "      <td>13</td>\n",
       "      <td>97.5</td>\n",
       "    </tr>\n",
       "    <tr>\n",
       "      <th>1</th>\n",
       "      <td>53</td>\n",
       "      <td>William</td>\n",
       "      <td>10</td>\n",
       "      <td>75.0</td>\n",
       "    </tr>\n",
       "    <tr>\n",
       "      <th>2</th>\n",
       "      <td>128</td>\n",
       "      <td>Henry</td>\n",
       "      <td>6</td>\n",
       "      <td>45.0</td>\n",
       "    </tr>\n",
       "    <tr>\n",
       "      <th>3</th>\n",
       "      <td>3</td>\n",
       "      <td>Henry</td>\n",
       "      <td>11</td>\n",
       "      <td>82.5</td>\n",
       "    </tr>\n",
       "  </tbody>\n",
       "</table>\n",
       "</div>"
      ],
      "text/plain": [
       "   student_id     name  age  age_in_dog_years\n",
       "0         101  Ulysses   13              97.5\n",
       "1          53  William   10              75.0\n",
       "2         128    Henry    6              45.0\n",
       "3           3    Henry   11              82.5"
      ]
     },
     "execution_count": 98,
     "metadata": {},
     "output_type": "execute_result"
    }
   ],
   "source": [
    "df"
   ]
  },
  {
   "cell_type": "markdown",
   "id": "6b8cf1f1-0a7b-4ead-9240-07263dbcbeb2",
   "metadata": {},
   "source": [
    "## Checkpoint:\n",
    "\n",
    "1. Once we have out `df` (or table), we want to focus in on a specific column. For example, `student_id`\n",
    "2. We want to filter rows based on a condition (`stdudent_id == 101`). For this, we introduced a new function `.loc()`.\n",
    "3. `.loc()` takes in 2 arguments (variables). The first argument is the condition you want to filter your rows by. The second argumnet is the columns that you want to display for your new subset.\n",
    "4. Created a new column and used the values of an already existing column to populate the values for our new column."
   ]
  },
  {
   "cell_type": "code",
   "execution_count": 100,
   "id": "5f96551f-2b7b-4093-9df2-d196248efa8d",
   "metadata": {},
   "outputs": [
    {
     "data": {
      "text/html": [
       "<div>\n",
       "<style scoped>\n",
       "    .dataframe tbody tr th:only-of-type {\n",
       "        vertical-align: middle;\n",
       "    }\n",
       "\n",
       "    .dataframe tbody tr th {\n",
       "        vertical-align: top;\n",
       "    }\n",
       "\n",
       "    .dataframe thead th {\n",
       "        text-align: right;\n",
       "    }\n",
       "</style>\n",
       "<table border=\"1\" class=\"dataframe\">\n",
       "  <thead>\n",
       "    <tr style=\"text-align: right;\">\n",
       "      <th></th>\n",
       "      <th>student_id</th>\n",
       "      <th>name</th>\n",
       "      <th>age</th>\n",
       "      <th>age_in_dog_years</th>\n",
       "    </tr>\n",
       "  </thead>\n",
       "  <tbody>\n",
       "    <tr>\n",
       "      <th>0</th>\n",
       "      <td>101</td>\n",
       "      <td>Ulysses</td>\n",
       "      <td>13</td>\n",
       "      <td>97.5</td>\n",
       "    </tr>\n",
       "    <tr>\n",
       "      <th>1</th>\n",
       "      <td>53</td>\n",
       "      <td>William</td>\n",
       "      <td>10</td>\n",
       "      <td>75.0</td>\n",
       "    </tr>\n",
       "    <tr>\n",
       "      <th>2</th>\n",
       "      <td>128</td>\n",
       "      <td>Henry</td>\n",
       "      <td>6</td>\n",
       "      <td>45.0</td>\n",
       "    </tr>\n",
       "    <tr>\n",
       "      <th>3</th>\n",
       "      <td>3</td>\n",
       "      <td>Henry</td>\n",
       "      <td>11</td>\n",
       "      <td>82.5</td>\n",
       "    </tr>\n",
       "  </tbody>\n",
       "</table>\n",
       "</div>"
      ],
      "text/plain": [
       "   student_id     name  age  age_in_dog_years\n",
       "0         101  Ulysses   13              97.5\n",
       "1          53  William   10              75.0\n",
       "2         128    Henry    6              45.0\n",
       "3           3    Henry   11              82.5"
      ]
     },
     "execution_count": 100,
     "metadata": {},
     "output_type": "execute_result"
    }
   ],
   "source": [
    "df"
   ]
  },
  {
   "cell_type": "code",
   "execution_count": 103,
   "id": "77279c62-fc5f-49bb-b4a2-c5d6500254e2",
   "metadata": {},
   "outputs": [
    {
     "data": {
      "text/plain": [
       "0    101\n",
       "1     53\n",
       "2    128\n",
       "3      3\n",
       "Name: student_id, dtype: int64"
      ]
     },
     "execution_count": 103,
     "metadata": {},
     "output_type": "execute_result"
    }
   ],
   "source": [
    "df['student_id']"
   ]
  },
  {
   "cell_type": "code",
   "execution_count": null,
   "id": "b6424c91-d4d2-4faf-b2dc-d75633e45b75",
   "metadata": {},
   "outputs": [],
   "source": []
  },
  {
   "cell_type": "code",
   "execution_count": null,
   "id": "b74f6d06-1314-409c-a42b-47feb7a28dbe",
   "metadata": {},
   "outputs": [],
   "source": []
  }
 ],
 "metadata": {
  "kernelspec": {
   "display_name": "Python 3 (ipykernel)",
   "language": "python",
   "name": "python3"
  },
  "language_info": {
   "codemirror_mode": {
    "name": "ipython",
    "version": 3
   },
   "file_extension": ".py",
   "mimetype": "text/x-python",
   "name": "python",
   "nbconvert_exporter": "python",
   "pygments_lexer": "ipython3",
   "version": "3.12.4"
  }
 },
 "nbformat": 4,
 "nbformat_minor": 5
}
