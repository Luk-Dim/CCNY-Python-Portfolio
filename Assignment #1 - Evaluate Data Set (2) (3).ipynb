{
 "cells": [
  {
   "cell_type": "markdown",
   "id": "4256dc96",
   "metadata": {},
   "source": [
    "# Assignment #1: Evaluate Data Set\n",
    "\n",
    "In your first graded assignment for this course, you will find and evaluate a data set on a topic of your choosing. You will be given specific questions related to the data set, and you will also be tasked with importing the data from your data set into your Jupyter Notebook environment. \n",
    "\n",
    "## Choose a Broad Topic\n",
    "\n",
    "First, choose a topic of interest to you, such as a specific social issue, a political or cultural trend, a community, or a hobby or personal interest. Ideally, it should be something relatively broad that society or culture is having some sort of conversation about, or which many people think about on a regular basis. Possible examples might be:\n",
    "\n",
    "- Housing and rental prices in New York City\n",
    "- A popular genre of music\n",
    "- A sport\n",
    "- Food prices\n",
    "- Crime\n",
    "- Government spending\n",
    "- Popularity of movies or TV shows \n",
    "- Bestselling books\n",
    "\n",
    "## Find a Data Set\n",
    "\n",
    "Search for terms related to your topic on Google, both generally and by adding specific names of websites where data will commonly be found. The following websites are frequently places to find data sets, and it sometimes makes sense to both search directly on the site and to do regular Google searches with the site name:\n",
    "\n",
    "- [Google Data Set Search](https://datasetsearch.research.google.com/)\n",
    "- [GitHub](https://github.com/)\n",
    "- [Kaggle](https://www.kaggle.com/)\n",
    "- [Data.gov](https://www.data.gov/)\n",
    "\n",
    "For example, if your topic is bestselling books, you might try these searches on Google:\n",
    "\n",
    "- bestselling books data set\n",
    "- bestselling books data set kaggle\n",
    "- bestselling books data set github\n",
    "- bestselling books data set \n",
    "\n",
    "You're not likely to find bestselling books data on data.gov, but you might find a lot of info related to health, the economy, and demographics, since that's what the government is most concerned about."
   ]
  },
  {
   "cell_type": "markdown",
   "id": "1c1a8105",
   "metadata": {},
   "source": [
    "-----"
   ]
  },
  {
   "cell_type": "markdown",
   "id": "9be8caee",
   "metadata": {},
   "source": [
    "What is your topic? (Enter responses to questions like these in the cell provided below.)"
   ]
  },
  {
   "cell_type": "markdown",
   "id": "c9702a5b",
   "metadata": {},
   "source": [
    "Average price for fruits 2022"
   ]
  },
  {
   "cell_type": "markdown",
   "id": "e2b8f153",
   "metadata": {},
   "source": [
    "What drew you to this topic, or why did you choose it?"
   ]
  },
  {
   "cell_type": "markdown",
   "id": "359d76a7",
   "metadata": {},
   "source": [
    "I wanted to compare fruits price differce between years of 2022 and 2024 data. This would give me more understanding about USA inflation and how it affects product markets."
   ]
  },
  {
   "cell_type": "markdown",
   "id": "20048152",
   "metadata": {},
   "source": [
    "## Choose a Data Set\n",
    "\n",
    "Choose a data set to use for the rest of this assignment. The data set doesn't need to be perfect, but ideally it should interest you and be in one of the discussed formats (CSV, TSV, Excel, JSON, .txt). If the data is in another format, either reach out to me to ask about it or choose another data set for this assignment. You may want to look ahead to the rest of this assignment to make sure nothing about the data set will make it difficult to answer the questions or to import the data."
   ]
  },
  {
   "cell_type": "markdown",
   "id": "5e869d8d",
   "metadata": {},
   "source": [
    "What is the name of your data set? Or provide a one-sentence description."
   ]
  },
  {
   "cell_type": "markdown",
   "id": "2ddf052f",
   "metadata": {},
   "source": [
    "All Fruits- Average price "
   ]
  },
  {
   "cell_type": "markdown",
   "id": "dc525c3e",
   "metadata": {},
   "source": [
    "What is the URL of the page on which you found the data set? (Paste the full URL.)"
   ]
  },
  {
   "cell_type": "markdown",
   "id": "b7f6a2fa",
   "metadata": {},
   "source": [
    "https://www.ers.usda.gov/data-products/fruit-and-vegetable-prices.aspx"
   ]
  },
  {
   "cell_type": "markdown",
   "id": "4d16c0fa",
   "metadata": {},
   "source": [
    "## Evaluation\n",
    "\n",
    "In this step, you will evaluate the data to the extent possible without using data science tools like Python or Pandas. You should download the data to your computer, and use both the data set itself as downloaded and the page you found it on to answer these questions. If you can't answer a question, write what you tried to do to answer it—don't give up right away, and try to think of other ways to answer the question. (In some cases, you can even contact the person who created the data set—if you do so, feel free to copy me on the email.)"
   ]
  },
  {
   "cell_type": "markdown",
   "id": "ba3a6174",
   "metadata": {},
   "source": [
    "What is the file format or file extension of the data set? Examples might be .csv (Comma Seperated Values), .tsv (Tab Separated Values), .xlsx (Excel workbook), .txt (plain text file), or JSON (JavaScript Object Notation)."
   ]
  },
  {
   "cell_type": "markdown",
   "id": "d17ed7a7",
   "metadata": {},
   "source": [
    ".csv (Comma Separated Values)"
   ]
  },
  {
   "cell_type": "markdown",
   "id": "6880764f",
   "metadata": {},
   "source": [
    "What is the size in megabytes (MB)or gigabytes (GB) of the data set?"
   ]
  },
  {
   "cell_type": "markdown",
   "id": "621b781a",
   "metadata": {},
   "source": [
    "4.1 MB"
   ]
  },
  {
   "cell_type": "markdown",
   "id": "e8ba770e",
   "metadata": {},
   "source": [
    "How many columns or fields is the data set? (Columns or fields are different types of data—for example, a book dataset might have title, author, and year as columns.)"
   ]
  },
  {
   "cell_type": "markdown",
   "id": "41ed02fa",
   "metadata": {},
   "source": [
    "8 columns "
   ]
  },
  {
   "cell_type": "markdown",
   "id": "747cbbcb",
   "metadata": {},
   "source": [
    "List out the columns in the data set. (You can put each column on a line, or you can separate the columns with commas.)"
   ]
  },
  {
   "cell_type": "markdown",
   "id": "a63d096c",
   "metadata": {},
   "source": [
    "1.Fruit, 2. Form, 3.Retail Price, 4. RetainPriceUnit, 5.Yield, 6. CupEquivalentSize, 7.CupEquivalentUnit, 8.CupEquivalentPrice"
   ]
  },
  {
   "cell_type": "markdown",
   "id": "799b491b",
   "metadata": {},
   "source": [
    "How many rows is the data set? (To use the book data set example again, each row might represent one book.)"
   ]
  },
  {
   "cell_type": "markdown",
   "id": "05e6b9ae",
   "metadata": {},
   "source": [
    "63"
   ]
  },
  {
   "cell_type": "markdown",
   "id": "9b82706b",
   "metadata": {},
   "source": [
    "What types of data appear in the data set? (You can use Python terms, like \"integer,\" \"float,\" \"boolean,\" \"string,\" or you can use other descriptive terms, like \"numeric data\" or \"text data.\" Try to be as comprehensive as possible in your answer."
   ]
  },
  {
   "cell_type": "markdown",
   "id": "bded6448",
   "metadata": {},
   "source": [
    "Integers,floats, text data"
   ]
  },
  {
   "cell_type": "markdown",
   "id": "ae154ab5",
   "metadata": {},
   "source": [
    "On initial inspection, does anything appear to be missing or wrong in the data set? (Don't spend too long on this.)"
   ]
  },
  {
   "cell_type": "markdown",
   "id": "89d2e870",
   "metadata": {},
   "source": [
    "Pretty accurate information without any missing or wrong details "
   ]
  },
  {
   "cell_type": "markdown",
   "id": "30d0ccf4",
   "metadata": {},
   "source": [
    "What kinds of questions could you answer with this data set? In answering this question, write at least one paragraph of at least 150 words."
   ]
  },
  {
   "cell_type": "markdown",
   "id": "ed19997b",
   "metadata": {},
   "source": [
    "The given information would be really useful for me during research for yearly price differences for fruits. Also with this specific field i would be able to figure out how much fruits prices changed due to infation or other reasons such as: disasters or crop failures. I can compare the differences in a wage of a middle-class usa citizen  and prices for fruits throughout years. Moreover with this data i would be able to start thinking about my owm farm ownership and the market prices for various fruits. This data would provide me with a precious information and give me more understanding of usa fruit's market. This dataset also examines the quantity and variety of fruits and vegetables that a household can afford with a limited budget. And for more clearness there are datasets from 2013 and 2016 years so i could compare fruits prices for the last decade. "
   ]
  },
  {
   "cell_type": "markdown",
   "id": "5fbbecb7",
   "metadata": {},
   "source": [
    "Do you see any issues or limitations with the data set? Alternatively, what do you wish was included in the data set that is not included? (Write at least one paragraph of at least 150 words.)"
   ]
  },
  {
   "cell_type": "markdown",
   "id": "e4ab6eff",
   "metadata": {},
   "source": [
    "I believe that the data set has a really perfect and right information. Each of the columns provides a name for the row which is easy to understand. I didn't notice any issues or limitations. I would likely want to see the fruit prices for each of usa states. In a following dataset it's only an average country price for each fruit you can find on a story shelf. However, i am pretty sure that the prices are differ in each of the state so there are might be some changes in prices/per pound. "
   ]
  },
  {
   "cell_type": "markdown",
   "id": "18f10308",
   "metadata": {},
   "source": [
    "## Reading the Data in Python\n",
    "\n",
    "Using as many cells as you need in the rest of this notebook, load the data into Python. You will probably want to use Pandas to load the data. Some example code is provided for you below. \n",
    "\n",
    "To use the example code in a Jupyter Notebook on your computer, you will need to make sure your data set is in the same folder as your notebook, and that you get the filename *exactly* right, including the extension. Here is example code for a Jupyter Notebook—this is just to get you started, and you are responsible for getting this working, which may involve looking up how to import data using Python and Pandas on Google.\n",
    "\n",
    "```python\n",
    "import pandas\n",
    "\n",
    "df = pandas.read_csv('name_of_data_file.csv')\n",
    "\n",
    "df\n",
    "```\n",
    "\n",
    "If your data is in another format, you will need to use the Pandas function related to that format. For example, to import JSON:\n",
    "\n",
    "```python\n",
    "import pandas\n",
    "\n",
    "df = pandas.read_json('name_of_data_file.json')\n",
    "\n",
    "df\n",
    "```\n",
    "\n",
    "Use as much space as you need below to import the file into Pandas (as above). Make sure the dataframe (df) is shown as an output at the end.\n"
   ]
  },
  {
   "cell_type": "code",
   "execution_count": 29,
   "id": "96b0db41",
   "metadata": {},
   "outputs": [],
   "source": [
    "import pandas as pd"
   ]
  },
  {
   "cell_type": "code",
   "execution_count": 33,
   "id": "dfb4a769-7fab-4dd7-876a-cfd835b82150",
   "metadata": {},
   "outputs": [],
   "source": [
    "data = pd.read_csv('Fruit-Prices-2022.csv')"
   ]
  },
  {
   "cell_type": "code",
   "execution_count": 39,
   "id": "205701cf-27c7-46a0-b108-a4b4221b5a72",
   "metadata": {},
   "outputs": [
    {
     "data": {
      "text/html": [
       "<div>\n",
       "<style scoped>\n",
       "    .dataframe tbody tr th:only-of-type {\n",
       "        vertical-align: middle;\n",
       "    }\n",
       "\n",
       "    .dataframe tbody tr th {\n",
       "        vertical-align: top;\n",
       "    }\n",
       "\n",
       "    .dataframe thead th {\n",
       "        text-align: right;\n",
       "    }\n",
       "</style>\n",
       "<table border=\"1\" class=\"dataframe\">\n",
       "  <thead>\n",
       "    <tr style=\"text-align: right;\">\n",
       "      <th></th>\n",
       "      <th>Fruit</th>\n",
       "      <th>Form</th>\n",
       "      <th>RetailPrice</th>\n",
       "      <th>RetailPriceUnit</th>\n",
       "      <th>Yield</th>\n",
       "      <th>CupEquivalentSize</th>\n",
       "      <th>CupEquivalentUnit</th>\n",
       "      <th>CupEquivalentPrice</th>\n",
       "    </tr>\n",
       "  </thead>\n",
       "  <tbody>\n",
       "    <tr>\n",
       "      <th>0</th>\n",
       "      <td>Apples</td>\n",
       "      <td>Fresh</td>\n",
       "      <td>1.8541</td>\n",
       "      <td>per pound</td>\n",
       "      <td>0.90</td>\n",
       "      <td>0.2425</td>\n",
       "      <td>pounds</td>\n",
       "      <td>0.4996</td>\n",
       "    </tr>\n",
       "    <tr>\n",
       "      <th>1</th>\n",
       "      <td>Apples, applesauce</td>\n",
       "      <td>Canned</td>\n",
       "      <td>1.1705</td>\n",
       "      <td>per pound</td>\n",
       "      <td>1.00</td>\n",
       "      <td>0.5401</td>\n",
       "      <td>pounds</td>\n",
       "      <td>0.6323</td>\n",
       "    </tr>\n",
       "    <tr>\n",
       "      <th>2</th>\n",
       "      <td>Apples, ready-to-drink</td>\n",
       "      <td>Juice</td>\n",
       "      <td>0.8699</td>\n",
       "      <td>per pint</td>\n",
       "      <td>1.00</td>\n",
       "      <td>8.0000</td>\n",
       "      <td>fluid ounces</td>\n",
       "      <td>0.4349</td>\n",
       "    </tr>\n",
       "    <tr>\n",
       "      <th>3</th>\n",
       "      <td>Apples, frozen concentrate</td>\n",
       "      <td>Juice</td>\n",
       "      <td>0.6086</td>\n",
       "      <td>per pint</td>\n",
       "      <td>1.00</td>\n",
       "      <td>8.0000</td>\n",
       "      <td>fluid ounces</td>\n",
       "      <td>0.3043</td>\n",
       "    </tr>\n",
       "    <tr>\n",
       "      <th>4</th>\n",
       "      <td>Apricots</td>\n",
       "      <td>Fresh</td>\n",
       "      <td>3.6162</td>\n",
       "      <td>per pound</td>\n",
       "      <td>0.93</td>\n",
       "      <td>0.3638</td>\n",
       "      <td>pounds</td>\n",
       "      <td>1.4145</td>\n",
       "    </tr>\n",
       "    <tr>\n",
       "      <th>5</th>\n",
       "      <td>Apricots, packed in juice</td>\n",
       "      <td>Canned</td>\n",
       "      <td>1.8645</td>\n",
       "      <td>per pound</td>\n",
       "      <td>1.00</td>\n",
       "      <td>0.5401</td>\n",
       "      <td>pounds</td>\n",
       "      <td>1.0071</td>\n",
       "    </tr>\n",
       "    <tr>\n",
       "      <th>6</th>\n",
       "      <td>Apricots, packed in syrup or water</td>\n",
       "      <td>Canned</td>\n",
       "      <td>2.2362</td>\n",
       "      <td>per pound</td>\n",
       "      <td>0.65</td>\n",
       "      <td>0.4409</td>\n",
       "      <td>pounds</td>\n",
       "      <td>1.5169</td>\n",
       "    </tr>\n",
       "    <tr>\n",
       "      <th>7</th>\n",
       "      <td>Apricots</td>\n",
       "      <td>Dried</td>\n",
       "      <td>7.6611</td>\n",
       "      <td>per pound</td>\n",
       "      <td>1.00</td>\n",
       "      <td>0.1433</td>\n",
       "      <td>pounds</td>\n",
       "      <td>1.0978</td>\n",
       "    </tr>\n",
       "    <tr>\n",
       "      <th>8</th>\n",
       "      <td>Bananas</td>\n",
       "      <td>Fresh</td>\n",
       "      <td>0.5971</td>\n",
       "      <td>per pound</td>\n",
       "      <td>0.64</td>\n",
       "      <td>0.3307</td>\n",
       "      <td>pounds</td>\n",
       "      <td>0.3085</td>\n",
       "    </tr>\n",
       "    <tr>\n",
       "      <th>9</th>\n",
       "      <td>Berries, mixed</td>\n",
       "      <td>Frozen</td>\n",
       "      <td>4.2673</td>\n",
       "      <td>per pound</td>\n",
       "      <td>1.00</td>\n",
       "      <td>0.3307</td>\n",
       "      <td>pounds</td>\n",
       "      <td>1.4112</td>\n",
       "    </tr>\n",
       "    <tr>\n",
       "      <th>10</th>\n",
       "      <td>Blackberries</td>\n",
       "      <td>Fresh</td>\n",
       "      <td>6.7483</td>\n",
       "      <td>per pound</td>\n",
       "      <td>0.96</td>\n",
       "      <td>0.3197</td>\n",
       "      <td>pounds</td>\n",
       "      <td>2.2471</td>\n",
       "    </tr>\n",
       "    <tr>\n",
       "      <th>11</th>\n",
       "      <td>Blackberries</td>\n",
       "      <td>Frozen</td>\n",
       "      <td>4.8277</td>\n",
       "      <td>per pound</td>\n",
       "      <td>1.00</td>\n",
       "      <td>0.3307</td>\n",
       "      <td>pounds</td>\n",
       "      <td>1.5965</td>\n",
       "    </tr>\n",
       "    <tr>\n",
       "      <th>12</th>\n",
       "      <td>Blueberries</td>\n",
       "      <td>Fresh</td>\n",
       "      <td>4.1575</td>\n",
       "      <td>per pound</td>\n",
       "      <td>0.95</td>\n",
       "      <td>0.3197</td>\n",
       "      <td>pounds</td>\n",
       "      <td>1.3990</td>\n",
       "    </tr>\n",
       "    <tr>\n",
       "      <th>13</th>\n",
       "      <td>Blueberries</td>\n",
       "      <td>Frozen</td>\n",
       "      <td>3.8210</td>\n",
       "      <td>per pound</td>\n",
       "      <td>1.00</td>\n",
       "      <td>0.3307</td>\n",
       "      <td>pounds</td>\n",
       "      <td>1.2636</td>\n",
       "    </tr>\n",
       "    <tr>\n",
       "      <th>14</th>\n",
       "      <td>Cantaloupe</td>\n",
       "      <td>Fresh</td>\n",
       "      <td>0.7523</td>\n",
       "      <td>per pound</td>\n",
       "      <td>0.51</td>\n",
       "      <td>0.3748</td>\n",
       "      <td>pounds</td>\n",
       "      <td>0.5528</td>\n",
       "    </tr>\n",
       "    <tr>\n",
       "      <th>15</th>\n",
       "      <td>Cherries</td>\n",
       "      <td>Fresh</td>\n",
       "      <td>4.6632</td>\n",
       "      <td>per pound</td>\n",
       "      <td>0.92</td>\n",
       "      <td>0.3417</td>\n",
       "      <td>pounds</td>\n",
       "      <td>1.7321</td>\n",
       "    </tr>\n",
       "    <tr>\n",
       "      <th>16</th>\n",
       "      <td>Cherries, packed in syrup or water</td>\n",
       "      <td>Canned</td>\n",
       "      <td>5.2418</td>\n",
       "      <td>per pound</td>\n",
       "      <td>0.65</td>\n",
       "      <td>0.4409</td>\n",
       "      <td>pounds</td>\n",
       "      <td>3.5558</td>\n",
       "    </tr>\n",
       "    <tr>\n",
       "      <th>17</th>\n",
       "      <td>Clementines</td>\n",
       "      <td>Fresh</td>\n",
       "      <td>1.5811</td>\n",
       "      <td>per pound</td>\n",
       "      <td>0.77</td>\n",
       "      <td>0.4630</td>\n",
       "      <td>pounds</td>\n",
       "      <td>0.9507</td>\n",
       "    </tr>\n",
       "    <tr>\n",
       "      <th>18</th>\n",
       "      <td>Cranberries</td>\n",
       "      <td>Dried</td>\n",
       "      <td>5.0828</td>\n",
       "      <td>per pound</td>\n",
       "      <td>1.00</td>\n",
       "      <td>0.1232</td>\n",
       "      <td>pounds</td>\n",
       "      <td>0.6260</td>\n",
       "    </tr>\n",
       "    <tr>\n",
       "      <th>19</th>\n",
       "      <td>Dates</td>\n",
       "      <td>Dried</td>\n",
       "      <td>5.7499</td>\n",
       "      <td>per pound</td>\n",
       "      <td>1.00</td>\n",
       "      <td>0.1653</td>\n",
       "      <td>pounds</td>\n",
       "      <td>0.9507</td>\n",
       "    </tr>\n",
       "  </tbody>\n",
       "</table>\n",
       "</div>"
      ],
      "text/plain": [
       "                                 Fruit    Form  RetailPrice RetailPriceUnit  \\\n",
       "0                               Apples   Fresh       1.8541       per pound   \n",
       "1                   Apples, applesauce  Canned       1.1705       per pound   \n",
       "2               Apples, ready-to-drink   Juice       0.8699        per pint   \n",
       "3           Apples, frozen concentrate   Juice       0.6086        per pint   \n",
       "4                             Apricots   Fresh       3.6162       per pound   \n",
       "5            Apricots, packed in juice  Canned       1.8645       per pound   \n",
       "6   Apricots, packed in syrup or water  Canned       2.2362       per pound   \n",
       "7                             Apricots   Dried       7.6611       per pound   \n",
       "8                              Bananas   Fresh       0.5971       per pound   \n",
       "9                       Berries, mixed  Frozen       4.2673       per pound   \n",
       "10                        Blackberries   Fresh       6.7483       per pound   \n",
       "11                        Blackberries  Frozen       4.8277       per pound   \n",
       "12                         Blueberries   Fresh       4.1575       per pound   \n",
       "13                         Blueberries  Frozen       3.8210       per pound   \n",
       "14                          Cantaloupe   Fresh       0.7523       per pound   \n",
       "15                            Cherries   Fresh       4.6632       per pound   \n",
       "16  Cherries, packed in syrup or water  Canned       5.2418       per pound   \n",
       "17                         Clementines   Fresh       1.5811       per pound   \n",
       "18                         Cranberries   Dried       5.0828       per pound   \n",
       "19                               Dates   Dried       5.7499       per pound   \n",
       "\n",
       "    Yield  CupEquivalentSize CupEquivalentUnit  CupEquivalentPrice  \n",
       "0    0.90             0.2425            pounds              0.4996  \n",
       "1    1.00             0.5401            pounds              0.6323  \n",
       "2    1.00             8.0000      fluid ounces              0.4349  \n",
       "3    1.00             8.0000      fluid ounces              0.3043  \n",
       "4    0.93             0.3638            pounds              1.4145  \n",
       "5    1.00             0.5401            pounds              1.0071  \n",
       "6    0.65             0.4409            pounds              1.5169  \n",
       "7    1.00             0.1433            pounds              1.0978  \n",
       "8    0.64             0.3307            pounds              0.3085  \n",
       "9    1.00             0.3307            pounds              1.4112  \n",
       "10   0.96             0.3197            pounds              2.2471  \n",
       "11   1.00             0.3307            pounds              1.5965  \n",
       "12   0.95             0.3197            pounds              1.3990  \n",
       "13   1.00             0.3307            pounds              1.2636  \n",
       "14   0.51             0.3748            pounds              0.5528  \n",
       "15   0.92             0.3417            pounds              1.7321  \n",
       "16   0.65             0.4409            pounds              3.5558  \n",
       "17   0.77             0.4630            pounds              0.9507  \n",
       "18   1.00             0.1232            pounds              0.6260  \n",
       "19   1.00             0.1653            pounds              0.9507  "
      ]
     },
     "execution_count": 39,
     "metadata": {},
     "output_type": "execute_result"
    }
   ],
   "source": [
    "data.head (20)"
   ]
  },
  {
   "cell_type": "code",
   "execution_count": null,
   "id": "ef58efd7-46a4-4af8-a99e-0af83765c4be",
   "metadata": {},
   "outputs": [],
   "source": []
  }
 ],
 "metadata": {
  "kernelspec": {
   "display_name": "Python 3 (ipykernel)",
   "language": "python",
   "name": "python3"
  },
  "language_info": {
   "codemirror_mode": {
    "name": "ipython",
    "version": 3
   },
   "file_extension": ".py",
   "mimetype": "text/x-python",
   "name": "python",
   "nbconvert_exporter": "python",
   "pygments_lexer": "ipython3",
   "version": "3.12.4"
  }
 },
 "nbformat": 4,
 "nbformat_minor": 5
}
