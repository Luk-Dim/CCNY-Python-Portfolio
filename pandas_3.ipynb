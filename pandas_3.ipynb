{
 "cells": [
  {
   "cell_type": "markdown",
   "id": "0258beda-8d35-4755-b727-5cc7b97e7978",
   "metadata": {},
   "source": [
    "## Recap:\n",
    "\n",
    "- We know how to create a `DataFrame` (table for pandas).\n",
    "- We know how to find the no. of `rows` and `columns` of our table\n",
    "- We know how to display the first `n` rows of our table. Ex: first 5 rows.\n",
    "- We know how to create a new column and populate it with values.\n",
    "- We know how to filter our table by a specific condition."
   ]
  },
  {
   "cell_type": "code",
   "execution_count": 4,
   "id": "ef50a300-c011-48bb-acef-aa57d5c0a155",
   "metadata": {},
   "outputs": [],
   "source": [
    "customer_data = [\n",
    "    [1, 'Ella', 'emily@example.com'],\n",
    "    [2, 'David', 'michael@example.com'],\n",
    "    [3, 'Zachary', 'sarah@example.com'],\n",
    "    [4, 'Alice', 'john@example.com'],\n",
    "    [5, 'Finn', 'john@example.com'],\n",
    "    [6, 'Violet', 'alice@example.com']\n",
    "]"
   ]
  },
  {
   "cell_type": "code",
   "execution_count": 6,
   "id": "c53acef2-0582-49cb-9d39-40e736f425ec",
   "metadata": {},
   "outputs": [],
   "source": [
    "customer_data_columns = ['customer_id', 'name', 'email']"
   ]
  },
  {
   "cell_type": "code",
   "execution_count": 8,
   "id": "fdc900b4-909b-428d-8730-9830b4ad2cc2",
   "metadata": {},
   "outputs": [],
   "source": [
    "import pandas as pd"
   ]
  },
  {
   "cell_type": "code",
   "execution_count": 10,
   "id": "8b21e0ba-25d0-40b3-a8eb-b704057e5ce2",
   "metadata": {},
   "outputs": [],
   "source": [
    "df = pd.DataFrame(data=customer_data, columns=customer_data_columns)"
   ]
  },
  {
   "cell_type": "code",
   "execution_count": 12,
   "id": "20c0dbd5-64df-4053-a75b-4a36f21ff54b",
   "metadata": {},
   "outputs": [
    {
     "data": {
      "text/html": [
       "<div>\n",
       "<style scoped>\n",
       "    .dataframe tbody tr th:only-of-type {\n",
       "        vertical-align: middle;\n",
       "    }\n",
       "\n",
       "    .dataframe tbody tr th {\n",
       "        vertical-align: top;\n",
       "    }\n",
       "\n",
       "    .dataframe thead th {\n",
       "        text-align: right;\n",
       "    }\n",
       "</style>\n",
       "<table border=\"1\" class=\"dataframe\">\n",
       "  <thead>\n",
       "    <tr style=\"text-align: right;\">\n",
       "      <th></th>\n",
       "      <th>customer_id</th>\n",
       "      <th>name</th>\n",
       "      <th>email</th>\n",
       "    </tr>\n",
       "  </thead>\n",
       "  <tbody>\n",
       "    <tr>\n",
       "      <th>0</th>\n",
       "      <td>1</td>\n",
       "      <td>Ella</td>\n",
       "      <td>emily@example.com</td>\n",
       "    </tr>\n",
       "    <tr>\n",
       "      <th>1</th>\n",
       "      <td>2</td>\n",
       "      <td>David</td>\n",
       "      <td>michael@example.com</td>\n",
       "    </tr>\n",
       "    <tr>\n",
       "      <th>2</th>\n",
       "      <td>3</td>\n",
       "      <td>Zachary</td>\n",
       "      <td>sarah@example.com</td>\n",
       "    </tr>\n",
       "    <tr>\n",
       "      <th>3</th>\n",
       "      <td>4</td>\n",
       "      <td>Alice</td>\n",
       "      <td>john@example.com</td>\n",
       "    </tr>\n",
       "    <tr>\n",
       "      <th>4</th>\n",
       "      <td>5</td>\n",
       "      <td>Finn</td>\n",
       "      <td>john@example.com</td>\n",
       "    </tr>\n",
       "    <tr>\n",
       "      <th>5</th>\n",
       "      <td>6</td>\n",
       "      <td>Violet</td>\n",
       "      <td>alice@example.com</td>\n",
       "    </tr>\n",
       "  </tbody>\n",
       "</table>\n",
       "</div>"
      ],
      "text/plain": [
       "   customer_id     name                email\n",
       "0            1     Ella    emily@example.com\n",
       "1            2    David  michael@example.com\n",
       "2            3  Zachary    sarah@example.com\n",
       "3            4    Alice     john@example.com\n",
       "4            5     Finn     john@example.com\n",
       "5            6   Violet    alice@example.com"
      ]
     },
     "execution_count": 12,
     "metadata": {},
     "output_type": "execute_result"
    }
   ],
   "source": [
    "df"
   ]
  },
  {
   "cell_type": "code",
   "execution_count": 22,
   "id": "7755e9c2-8511-4b47-bff6-4780f55df38c",
   "metadata": {},
   "outputs": [
    {
     "data": {
      "text/plain": [
       "0      emily@example.com\n",
       "1    michael@example.com\n",
       "2      sarah@example.com\n",
       "3       john@example.com\n",
       "4       john@example.com\n",
       "5      alice@example.com\n",
       "Name: email, dtype: object"
      ]
     },
     "execution_count": 22,
     "metadata": {},
     "output_type": "execute_result"
    }
   ],
   "source": [
    "df['email']"
   ]
  },
  {
   "cell_type": "code",
   "execution_count": 24,
   "id": "dc847d87-d8ee-45f3-92f7-0ad0434b2e79",
   "metadata": {},
   "outputs": [],
   "source": [
    "df.drop_duplicates(subset='email', inplace=True)"
   ]
  },
  {
   "cell_type": "code",
   "execution_count": 26,
   "id": "3cacbef7-1de1-4d0c-ba4e-9f1ab48fdb81",
   "metadata": {},
   "outputs": [
    {
     "data": {
      "text/html": [
       "<div>\n",
       "<style scoped>\n",
       "    .dataframe tbody tr th:only-of-type {\n",
       "        vertical-align: middle;\n",
       "    }\n",
       "\n",
       "    .dataframe tbody tr th {\n",
       "        vertical-align: top;\n",
       "    }\n",
       "\n",
       "    .dataframe thead th {\n",
       "        text-align: right;\n",
       "    }\n",
       "</style>\n",
       "<table border=\"1\" class=\"dataframe\">\n",
       "  <thead>\n",
       "    <tr style=\"text-align: right;\">\n",
       "      <th></th>\n",
       "      <th>customer_id</th>\n",
       "      <th>name</th>\n",
       "      <th>email</th>\n",
       "    </tr>\n",
       "  </thead>\n",
       "  <tbody>\n",
       "    <tr>\n",
       "      <th>0</th>\n",
       "      <td>1</td>\n",
       "      <td>Ella</td>\n",
       "      <td>emily@example.com</td>\n",
       "    </tr>\n",
       "    <tr>\n",
       "      <th>1</th>\n",
       "      <td>2</td>\n",
       "      <td>David</td>\n",
       "      <td>michael@example.com</td>\n",
       "    </tr>\n",
       "    <tr>\n",
       "      <th>2</th>\n",
       "      <td>3</td>\n",
       "      <td>Zachary</td>\n",
       "      <td>sarah@example.com</td>\n",
       "    </tr>\n",
       "    <tr>\n",
       "      <th>3</th>\n",
       "      <td>4</td>\n",
       "      <td>Alice</td>\n",
       "      <td>john@example.com</td>\n",
       "    </tr>\n",
       "    <tr>\n",
       "      <th>5</th>\n",
       "      <td>6</td>\n",
       "      <td>Violet</td>\n",
       "      <td>alice@example.com</td>\n",
       "    </tr>\n",
       "  </tbody>\n",
       "</table>\n",
       "</div>"
      ],
      "text/plain": [
       "   customer_id     name                email\n",
       "0            1     Ella    emily@example.com\n",
       "1            2    David  michael@example.com\n",
       "2            3  Zachary    sarah@example.com\n",
       "3            4    Alice     john@example.com\n",
       "5            6   Violet    alice@example.com"
      ]
     },
     "execution_count": 26,
     "metadata": {},
     "output_type": "execute_result"
    }
   ],
   "source": [
    "df"
   ]
  },
  {
   "cell_type": "markdown",
   "id": "65e13b67-0d98-4006-b2b1-95bd35708419",
   "metadata": {},
   "source": [
    "## ^ Checkpoint: `.drop_duplicates()`\n",
    "\n",
    "removes the rows with repeated occurances of a value.\n",
    "\n",
    "\n",
    "`.drop_duplicates()` takes in the `subset=` which is the column you want to drop duplicates for and `inplace=True` will make sure that the filtering happens on your original table."
   ]
  },
  {
   "cell_type": "code",
   "execution_count": 47,
   "id": "7e145370-4bf6-4d58-93f5-73bdcf3f75bd",
   "metadata": {},
   "outputs": [],
   "source": [
    "student_data = [\n",
    "    [1, 'Ella', None],\n",
    "    [2, 'David', 'michael@example.com'],\n",
    "    [3, None, 'sarah@example.com'],\n",
    "    [4, 'Alice', None],\n",
    "    [5, None, 'john@example.com'],\n",
    "    [6, 'Violet', 'alice@example.com']\n",
    "]"
   ]
  },
  {
   "cell_type": "code",
   "execution_count": 49,
   "id": "cd7a56a6-11b3-4e80-ad9b-96f8fd851a9f",
   "metadata": {},
   "outputs": [],
   "source": [
    "student_data_columns = ['student_id', 'name', 'email']"
   ]
  },
  {
   "cell_type": "code",
   "execution_count": 51,
   "id": "17a89e0c-54c4-47ab-b2e1-4bd9fce9b62b",
   "metadata": {},
   "outputs": [],
   "source": [
    "df2 = pd.DataFrame(data=student_data, columns=student_data_columns)"
   ]
  },
  {
   "cell_type": "code",
   "execution_count": 59,
   "id": "d3bb9334-f343-4925-975d-0b54d6b8466c",
   "metadata": {},
   "outputs": [
    {
     "data": {
      "text/html": [
       "<div>\n",
       "<style scoped>\n",
       "    .dataframe tbody tr th:only-of-type {\n",
       "        vertical-align: middle;\n",
       "    }\n",
       "\n",
       "    .dataframe tbody tr th {\n",
       "        vertical-align: top;\n",
       "    }\n",
       "\n",
       "    .dataframe thead th {\n",
       "        text-align: right;\n",
       "    }\n",
       "</style>\n",
       "<table border=\"1\" class=\"dataframe\">\n",
       "  <thead>\n",
       "    <tr style=\"text-align: right;\">\n",
       "      <th></th>\n",
       "      <th>student_id</th>\n",
       "      <th>name</th>\n",
       "      <th>email</th>\n",
       "    </tr>\n",
       "  </thead>\n",
       "  <tbody>\n",
       "    <tr>\n",
       "      <th>0</th>\n",
       "      <td>1</td>\n",
       "      <td>Ella</td>\n",
       "      <td>None</td>\n",
       "    </tr>\n",
       "    <tr>\n",
       "      <th>1</th>\n",
       "      <td>2</td>\n",
       "      <td>David</td>\n",
       "      <td>michael@example.com</td>\n",
       "    </tr>\n",
       "    <tr>\n",
       "      <th>3</th>\n",
       "      <td>4</td>\n",
       "      <td>Alice</td>\n",
       "      <td>None</td>\n",
       "    </tr>\n",
       "    <tr>\n",
       "      <th>5</th>\n",
       "      <td>6</td>\n",
       "      <td>Violet</td>\n",
       "      <td>alice@example.com</td>\n",
       "    </tr>\n",
       "  </tbody>\n",
       "</table>\n",
       "</div>"
      ],
      "text/plain": [
       "   student_id    name                email\n",
       "0           1    Ella                 None\n",
       "1           2   David  michael@example.com\n",
       "3           4   Alice                 None\n",
       "5           6  Violet    alice@example.com"
      ]
     },
     "execution_count": 59,
     "metadata": {},
     "output_type": "execute_result"
    }
   ],
   "source": [
    "df2"
   ]
  },
  {
   "cell_type": "code",
   "execution_count": 55,
   "id": "a4bd609b-66ad-43db-a556-f3a4c42d11c4",
   "metadata": {},
   "outputs": [],
   "source": [
    "df2.dropna(subset='name', inplace=True)"
   ]
  },
  {
   "cell_type": "code",
   "execution_count": 69,
   "id": "fe91477f-c366-4eeb-81ce-7d1d5d010f45",
   "metadata": {},
   "outputs": [],
   "source": [
    "# If you want to drop empty values for more than one column,\n",
    "# write the subset as a list [...]\n",
    "\n",
    "# Similarly, for .drop_duplicates() you can select multiple \n",
    "# columns using a list\n",
    "\n",
    "df2.dropna(subset=['name', 'email'], inplace=True)"
   ]
  },
  {
   "cell_type": "code",
   "execution_count": 71,
   "id": "7baf5034-6652-471a-b258-6c7390ef7d2f",
   "metadata": {},
   "outputs": [
    {
     "data": {
      "text/html": [
       "<div>\n",
       "<style scoped>\n",
       "    .dataframe tbody tr th:only-of-type {\n",
       "        vertical-align: middle;\n",
       "    }\n",
       "\n",
       "    .dataframe tbody tr th {\n",
       "        vertical-align: top;\n",
       "    }\n",
       "\n",
       "    .dataframe thead th {\n",
       "        text-align: right;\n",
       "    }\n",
       "</style>\n",
       "<table border=\"1\" class=\"dataframe\">\n",
       "  <thead>\n",
       "    <tr style=\"text-align: right;\">\n",
       "      <th></th>\n",
       "      <th>student_id</th>\n",
       "      <th>name</th>\n",
       "      <th>email</th>\n",
       "    </tr>\n",
       "  </thead>\n",
       "  <tbody>\n",
       "    <tr>\n",
       "      <th>1</th>\n",
       "      <td>2</td>\n",
       "      <td>David</td>\n",
       "      <td>michael@example.com</td>\n",
       "    </tr>\n",
       "    <tr>\n",
       "      <th>5</th>\n",
       "      <td>6</td>\n",
       "      <td>Violet</td>\n",
       "      <td>alice@example.com</td>\n",
       "    </tr>\n",
       "  </tbody>\n",
       "</table>\n",
       "</div>"
      ],
      "text/plain": [
       "   student_id    name                email\n",
       "1           2   David  michael@example.com\n",
       "5           6  Violet    alice@example.com"
      ]
     },
     "execution_count": 71,
     "metadata": {},
     "output_type": "execute_result"
    }
   ],
   "source": [
    "df2"
   ]
  },
  {
   "cell_type": "markdown",
   "id": "7e94abad-3635-44bc-8ab7-ad6da4d70bbc",
   "metadata": {},
   "source": [
    "## ^ Checkpoint: `.dropna()`\n",
    "\n",
    "used to remove the rows that have no values for a certain column.\n",
    "\n",
    "`.dropna()` takes the same arguments as `.drop_duplicates()`. It takes a `subset=` and `inplace=True`"
   ]
  },
  {
   "cell_type": "code",
   "execution_count": 75,
   "id": "9fe265ce-0e8c-465b-ad05-a013c3d83a39",
   "metadata": {},
   "outputs": [],
   "source": [
    "salary_data = [\n",
    "    ['Jack', 20000],\n",
    "    ['Piper', 75000],\n",
    "    ['Mia', 60000],\n",
    "    ['Ulysses', 55000]\n",
    "]"
   ]
  },
  {
   "cell_type": "code",
   "execution_count": 77,
   "id": "1dcca88f-91a0-477b-9898-e57c3d25604f",
   "metadata": {},
   "outputs": [],
   "source": [
    "df3= pd.DataFrame(data=salary_data, columns=['name', 'salary'])"
   ]
  },
  {
   "cell_type": "code",
   "execution_count": 79,
   "id": "e68ff83c-dc63-4aa8-b9f4-1f5b814b89d2",
   "metadata": {},
   "outputs": [
    {
     "data": {
      "text/html": [
       "<div>\n",
       "<style scoped>\n",
       "    .dataframe tbody tr th:only-of-type {\n",
       "        vertical-align: middle;\n",
       "    }\n",
       "\n",
       "    .dataframe tbody tr th {\n",
       "        vertical-align: top;\n",
       "    }\n",
       "\n",
       "    .dataframe thead th {\n",
       "        text-align: right;\n",
       "    }\n",
       "</style>\n",
       "<table border=\"1\" class=\"dataframe\">\n",
       "  <thead>\n",
       "    <tr style=\"text-align: right;\">\n",
       "      <th></th>\n",
       "      <th>name</th>\n",
       "      <th>salary</th>\n",
       "    </tr>\n",
       "  </thead>\n",
       "  <tbody>\n",
       "    <tr>\n",
       "      <th>0</th>\n",
       "      <td>Jack</td>\n",
       "      <td>20000</td>\n",
       "    </tr>\n",
       "    <tr>\n",
       "      <th>1</th>\n",
       "      <td>Piper</td>\n",
       "      <td>75000</td>\n",
       "    </tr>\n",
       "    <tr>\n",
       "      <th>2</th>\n",
       "      <td>Mia</td>\n",
       "      <td>60000</td>\n",
       "    </tr>\n",
       "    <tr>\n",
       "      <th>3</th>\n",
       "      <td>Ulysses</td>\n",
       "      <td>55000</td>\n",
       "    </tr>\n",
       "  </tbody>\n",
       "</table>\n",
       "</div>"
      ],
      "text/plain": [
       "      name  salary\n",
       "0     Jack   20000\n",
       "1    Piper   75000\n",
       "2      Mia   60000\n",
       "3  Ulysses   55000"
      ]
     },
     "execution_count": 79,
     "metadata": {},
     "output_type": "execute_result"
    }
   ],
   "source": [
    "df3"
   ]
  },
  {
   "cell_type": "markdown",
   "id": "e809272f-ee7e-4c94-a5a1-a5c0187264b7",
   "metadata": {},
   "source": [
    "1. Focus in on the salary column\n",
    "2. Double each value in each row\n",
    "3. Update the salary column with the doubled salary"
   ]
  },
  {
   "cell_type": "code",
   "execution_count": 84,
   "id": "668308a4-ab19-4d9f-8692-c84e1f9ce0f9",
   "metadata": {},
   "outputs": [],
   "source": [
    "df3['salary'] = df3['salary'] * 2"
   ]
  },
  {
   "cell_type": "code",
   "execution_count": 86,
   "id": "fb3fd904-9f9f-4b2d-893c-7f3f297726ad",
   "metadata": {},
   "outputs": [
    {
     "data": {
      "text/html": [
       "<div>\n",
       "<style scoped>\n",
       "    .dataframe tbody tr th:only-of-type {\n",
       "        vertical-align: middle;\n",
       "    }\n",
       "\n",
       "    .dataframe tbody tr th {\n",
       "        vertical-align: top;\n",
       "    }\n",
       "\n",
       "    .dataframe thead th {\n",
       "        text-align: right;\n",
       "    }\n",
       "</style>\n",
       "<table border=\"1\" class=\"dataframe\">\n",
       "  <thead>\n",
       "    <tr style=\"text-align: right;\">\n",
       "      <th></th>\n",
       "      <th>name</th>\n",
       "      <th>salary</th>\n",
       "    </tr>\n",
       "  </thead>\n",
       "  <tbody>\n",
       "    <tr>\n",
       "      <th>0</th>\n",
       "      <td>Jack</td>\n",
       "      <td>40000</td>\n",
       "    </tr>\n",
       "    <tr>\n",
       "      <th>1</th>\n",
       "      <td>Piper</td>\n",
       "      <td>150000</td>\n",
       "    </tr>\n",
       "    <tr>\n",
       "      <th>2</th>\n",
       "      <td>Mia</td>\n",
       "      <td>120000</td>\n",
       "    </tr>\n",
       "    <tr>\n",
       "      <th>3</th>\n",
       "      <td>Ulysses</td>\n",
       "      <td>110000</td>\n",
       "    </tr>\n",
       "  </tbody>\n",
       "</table>\n",
       "</div>"
      ],
      "text/plain": [
       "      name  salary\n",
       "0     Jack   40000\n",
       "1    Piper  150000\n",
       "2      Mia  120000\n",
       "3  Ulysses  110000"
      ]
     },
     "execution_count": 86,
     "metadata": {},
     "output_type": "execute_result"
    }
   ],
   "source": [
    "df3"
   ]
  },
  {
   "cell_type": "markdown",
   "id": "89bd55c1-71a1-489f-9342-43b03fc76505",
   "metadata": {},
   "source": [
    "## ^ Updating existing values of a column:\n",
    "\n",
    "- We access the row values for `salary` and multiply it by 2 (`df3['salary'] * 2`)\n",
    "\n",
    "\n",
    "- We set this new computation as the new row value for `salary` (`df3['salary'] =`)"
   ]
  },
  {
   "cell_type": "markdown",
   "id": "589ad6b1-1c14-4e14-a10a-49db95a7a5a7",
   "metadata": {},
   "source": [
    "## So far...\n",
    "\n",
    "1. `.drop_duplicates()` function\n",
    "2. `.dropna()` function\n",
    "3. Learned how to modify existing row values of a column"
   ]
  },
  {
   "cell_type": "code",
   "execution_count": 91,
   "id": "14c67e73-0e75-4b4e-9d5a-2a6149f04a82",
   "metadata": {},
   "outputs": [],
   "source": [
    "names_data = [\n",
    "    [1, 'Ella', 'emily@example.com'],\n",
    "    [2, 'David', 'michael@example.com'],\n",
    "    [3, 'Zachary', 'sarah@example.com'],\n",
    "    [4, 'Alice', 'john@example.com'],\n",
    "    [5, 'Finn', 'john@example.com'],\n",
    "    [6, 'Violet', 'alice@example.com']\n",
    "]"
   ]
  },
  {
   "cell_type": "code",
   "execution_count": 107,
   "id": "e32dfc01-0874-4435-bd14-f01863ca4f96",
   "metadata": {},
   "outputs": [],
   "source": [
    "names_data_columns = ['id', 'first', 'email']"
   ]
  },
  {
   "cell_type": "code",
   "execution_count": 109,
   "id": "a721c3f1-98c3-4843-8358-53b93f5c06e2",
   "metadata": {},
   "outputs": [],
   "source": [
    "df4 = pd.DataFrame(data=names_data, columns=names_data_columns)"
   ]
  },
  {
   "cell_type": "code",
   "execution_count": 111,
   "id": "660e297f-9aa5-4bac-971e-799c2db35be4",
   "metadata": {},
   "outputs": [
    {
     "data": {
      "text/html": [
       "<div>\n",
       "<style scoped>\n",
       "    .dataframe tbody tr th:only-of-type {\n",
       "        vertical-align: middle;\n",
       "    }\n",
       "\n",
       "    .dataframe tbody tr th {\n",
       "        vertical-align: top;\n",
       "    }\n",
       "\n",
       "    .dataframe thead th {\n",
       "        text-align: right;\n",
       "    }\n",
       "</style>\n",
       "<table border=\"1\" class=\"dataframe\">\n",
       "  <thead>\n",
       "    <tr style=\"text-align: right;\">\n",
       "      <th></th>\n",
       "      <th>id</th>\n",
       "      <th>first</th>\n",
       "      <th>email</th>\n",
       "    </tr>\n",
       "  </thead>\n",
       "  <tbody>\n",
       "    <tr>\n",
       "      <th>0</th>\n",
       "      <td>1</td>\n",
       "      <td>Ella</td>\n",
       "      <td>emily@example.com</td>\n",
       "    </tr>\n",
       "    <tr>\n",
       "      <th>1</th>\n",
       "      <td>2</td>\n",
       "      <td>David</td>\n",
       "      <td>michael@example.com</td>\n",
       "    </tr>\n",
       "    <tr>\n",
       "      <th>2</th>\n",
       "      <td>3</td>\n",
       "      <td>Zachary</td>\n",
       "      <td>sarah@example.com</td>\n",
       "    </tr>\n",
       "    <tr>\n",
       "      <th>3</th>\n",
       "      <td>4</td>\n",
       "      <td>Alice</td>\n",
       "      <td>john@example.com</td>\n",
       "    </tr>\n",
       "    <tr>\n",
       "      <th>4</th>\n",
       "      <td>5</td>\n",
       "      <td>Finn</td>\n",
       "      <td>john@example.com</td>\n",
       "    </tr>\n",
       "    <tr>\n",
       "      <th>5</th>\n",
       "      <td>6</td>\n",
       "      <td>Violet</td>\n",
       "      <td>alice@example.com</td>\n",
       "    </tr>\n",
       "  </tbody>\n",
       "</table>\n",
       "</div>"
      ],
      "text/plain": [
       "   id    first                email\n",
       "0   1     Ella    emily@example.com\n",
       "1   2    David  michael@example.com\n",
       "2   3  Zachary    sarah@example.com\n",
       "3   4    Alice     john@example.com\n",
       "4   5     Finn     john@example.com\n",
       "5   6   Violet    alice@example.com"
      ]
     },
     "execution_count": 111,
     "metadata": {},
     "output_type": "execute_result"
    }
   ],
   "source": [
    "df4"
   ]
  },
  {
   "cell_type": "code",
   "execution_count": 113,
   "id": "fd29b217-8b35-4e23-b8a1-c4a1821102a3",
   "metadata": {},
   "outputs": [
    {
     "data": {
      "text/html": [
       "<div>\n",
       "<style scoped>\n",
       "    .dataframe tbody tr th:only-of-type {\n",
       "        vertical-align: middle;\n",
       "    }\n",
       "\n",
       "    .dataframe tbody tr th {\n",
       "        vertical-align: top;\n",
       "    }\n",
       "\n",
       "    .dataframe thead th {\n",
       "        text-align: right;\n",
       "    }\n",
       "</style>\n",
       "<table border=\"1\" class=\"dataframe\">\n",
       "  <thead>\n",
       "    <tr style=\"text-align: right;\">\n",
       "      <th></th>\n",
       "      <th>student_id</th>\n",
       "      <th>first_name</th>\n",
       "      <th>email_address</th>\n",
       "    </tr>\n",
       "  </thead>\n",
       "  <tbody>\n",
       "    <tr>\n",
       "      <th>0</th>\n",
       "      <td>1</td>\n",
       "      <td>Ella</td>\n",
       "      <td>emily@example.com</td>\n",
       "    </tr>\n",
       "    <tr>\n",
       "      <th>1</th>\n",
       "      <td>2</td>\n",
       "      <td>David</td>\n",
       "      <td>michael@example.com</td>\n",
       "    </tr>\n",
       "    <tr>\n",
       "      <th>2</th>\n",
       "      <td>3</td>\n",
       "      <td>Zachary</td>\n",
       "      <td>sarah@example.com</td>\n",
       "    </tr>\n",
       "    <tr>\n",
       "      <th>3</th>\n",
       "      <td>4</td>\n",
       "      <td>Alice</td>\n",
       "      <td>john@example.com</td>\n",
       "    </tr>\n",
       "    <tr>\n",
       "      <th>4</th>\n",
       "      <td>5</td>\n",
       "      <td>Finn</td>\n",
       "      <td>john@example.com</td>\n",
       "    </tr>\n",
       "    <tr>\n",
       "      <th>5</th>\n",
       "      <td>6</td>\n",
       "      <td>Violet</td>\n",
       "      <td>alice@example.com</td>\n",
       "    </tr>\n",
       "  </tbody>\n",
       "</table>\n",
       "</div>"
      ],
      "text/plain": [
       "   student_id first_name        email_address\n",
       "0           1       Ella    emily@example.com\n",
       "1           2      David  michael@example.com\n",
       "2           3    Zachary    sarah@example.com\n",
       "3           4      Alice     john@example.com\n",
       "4           5       Finn     john@example.com\n",
       "5           6     Violet    alice@example.com"
      ]
     },
     "execution_count": 113,
     "metadata": {},
     "output_type": "execute_result"
    }
   ],
   "source": [
    "df4.rename(columns={\n",
    "    'id': 'student_id',\n",
    "    'first': 'first_name',\n",
    "    'email': 'email_address'\n",
    "})"
   ]
  },
  {
   "cell_type": "markdown",
   "id": "e53c4723-0265-4840-ac6c-870961e91c2d",
   "metadata": {},
   "source": [
    "## ^ Checkpoint: `.rename()`\n",
    "\n",
    "renames the column names for your table.\n",
    "\n",
    "It takes it a variable called `columns=` where you can provide a mapping between old column name and new column name."
   ]
  },
  {
   "cell_type": "code",
   "execution_count": 120,
   "id": "b110c62d-0106-48b9-a5d8-78058b7bccc9",
   "metadata": {},
   "outputs": [
    {
     "data": {
      "text/plain": [
       "id        int64\n",
       "first    object\n",
       "email    object\n",
       "dtype: object"
      ]
     },
     "execution_count": 120,
     "metadata": {},
     "output_type": "execute_result"
    }
   ],
   "source": [
    "df4.dtypes"
   ]
  },
  {
   "cell_type": "code",
   "execution_count": 122,
   "id": "985b2df0-de5f-44b1-b89a-c3bdc80df126",
   "metadata": {},
   "outputs": [
    {
     "ename": "NameError",
     "evalue": "name 'String' is not defined",
     "output_type": "error",
     "traceback": [
      "\u001b[0;31m---------------------------------------------------------------------------\u001b[0m",
      "\u001b[0;31mNameError\u001b[0m                                 Traceback (most recent call last)",
      "Cell \u001b[0;32mIn[122], line 1\u001b[0m\n\u001b[0;32m----> 1\u001b[0m df4[\u001b[38;5;124m'\u001b[39m\u001b[38;5;124mfirst\u001b[39m\u001b[38;5;124m'\u001b[39m]\u001b[38;5;241m.\u001b[39mdtype(String)\n",
      "\u001b[0;31mNameError\u001b[0m: name 'String' is not defined"
     ]
    }
   ],
   "source": [
    "df4['first'].dtype()"
   ]
  },
  {
   "cell_type": "code",
   "execution_count": null,
   "id": "1eb7ae24-af77-4a60-bad4-e671d0e638a6",
   "metadata": {},
   "outputs": [],
   "source": []
  }
 ],
 "metadata": {
  "kernelspec": {
   "display_name": "Python 3 (ipykernel)",
   "language": "python",
   "name": "python3"
  },
  "language_info": {
   "codemirror_mode": {
    "name": "ipython",
    "version": 3
   },
   "file_extension": ".py",
   "mimetype": "text/x-python",
   "name": "python",
   "nbconvert_exporter": "python",
   "pygments_lexer": "ipython3",
   "version": "3.12.4"
  }
 },
 "nbformat": 4,
 "nbformat_minor": 5
}
